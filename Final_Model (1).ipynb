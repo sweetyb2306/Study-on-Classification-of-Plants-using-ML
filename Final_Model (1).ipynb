{
 "cells": [
  {
   "cell_type": "code",
   "execution_count": 1,
   "id": "bd5fd9b3",
   "metadata": {},
   "outputs": [],
   "source": [
    "import tensorflow as tf\n",
    "from tensorflow.keras.preprocessing.image import ImageDataGenerator\n",
    "from tensorflow.keras.applications import MobileNetV2\n",
    "from tensorflow.keras import layers, models\n",
    "from tensorflow.keras.optimizers import Adam\n",
    "import matplotlib.pyplot as plt\n",
    "import seaborn as sns\n",
    "from sklearn.metrics import confusion_matrix\n",
    "import numpy as np\n",
    "import os"
   ]
  },
  {
   "cell_type": "code",
   "execution_count": 2,
   "id": "2a6dd6f0",
   "metadata": {},
   "outputs": [],
   "source": [
    "# Step 1: Prepare the dataset\n",
    "def prepare_data(train_dir, img_size=(224, 224), batch_size=32, validation_split=0.2):\n",
    "    datagen = ImageDataGenerator(\n",
    "        rescale=1./255,\n",
    "        shear_range=0.2,\n",
    "        zoom_range=0.2,\n",
    "        horizontal_flip=True,\n",
    "        rotation_range=40,\n",
    "        width_shift_range=0.2,\n",
    "        height_shift_range=0.2,\n",
    "        brightness_range=[0.8, 1.2],\n",
    "        validation_split=validation_split\n",
    "    )\n",
    "    \n",
    "    train_data = datagen.flow_from_directory(\n",
    "        train_dir,\n",
    "        target_size=img_size,\n",
    "        batch_size=batch_size,\n",
    "        class_mode='categorical',\n",
    "        subset='training'\n",
    "    )\n",
    "    \n",
    "    val_data = datagen.flow_from_directory(\n",
    "        train_dir,\n",
    "        target_size=img_size,\n",
    "        batch_size=batch_size,\n",
    "        class_mode='categorical',\n",
    "        subset='validation'\n",
    "    )\n",
    "    \n",
    "    return train_data, val_data"
   ]
  },
  {
   "cell_type": "code",
   "execution_count": 3,
   "id": "4f5ebf04",
   "metadata": {},
   "outputs": [],
   "source": [
    "# Step 2: Build the model using MobileNetV2 for transfer learning\n",
    "def build_model(num_classes, input_shape=(224, 224, 3)):\n",
    "    base_model = MobileNetV2(weights='imagenet', include_top=False, input_shape=input_shape)\n",
    "    base_model.trainable = False  # Freeze the base model\n",
    "    \n",
    "    model = models.Sequential([\n",
    "        base_model,\n",
    "        layers.GlobalAveragePooling2D(),\n",
    "        layers.Dense(256, activation='relu'),\n",
    "        layers.Dropout(0.5),\n",
    "        layers.Dense(num_classes, activation='softmax')  \n",
    "    ])\n",
    "    \n",
    "    model.compile(optimizer=Adam(), loss='categorical_crossentropy', metrics=['accuracy'])\n",
    "    return model"
   ]
  },
  {
   "cell_type": "code",
   "execution_count": 4,
   "id": "862bf22b",
   "metadata": {},
   "outputs": [],
   "source": [
    "# Step 3: Train the model\n",
    "def train_model(model, train_data, val_data, epochs=15):\n",
    "    history = model.fit(train_data, validation_data=val_data, epochs=epochs)\n",
    "    return history"
   ]
  },
  {
   "cell_type": "code",
   "execution_count": 5,
   "id": "64383ff7",
   "metadata": {},
   "outputs": [],
   "source": [
    "# Step 4: Plot training results\n",
    "def plot_training(history):\n",
    "    plt.figure(figsize=(12, 4))\n",
    "    \n",
    "    # Accuracy\n",
    "    plt.subplot(1, 2, 1)\n",
    "    plt.plot(history.history['accuracy'], label='Train Accuracy')\n",
    "    plt.plot(history.history['val_accuracy'], label='Validation Accuracy')\n",
    "    plt.title('Accuracy')\n",
    "    plt.legend()\n",
    "\n",
    "    # Loss\n",
    "    plt.subplot(1, 2, 2)\n",
    "    plt.plot(history.history['loss'], label='Train Loss')\n",
    "    plt.plot(history.history['val_loss'], label='Validation Loss')\n",
    "    plt.title('Loss')\n",
    "    plt.legend()\n",
    "\n",
    "    plt.show()"
   ]
  },
  {
   "cell_type": "code",
   "execution_count": 6,
   "id": "1c42eb9c",
   "metadata": {},
   "outputs": [],
   "source": [
    "# Step 5: Save the model\n",
    "def save_model(model, model_path='plant_classifier_model.h5'):\n",
    "    model.save(model_path)\n",
    "    print(f\"Model saved to {model_path}\")"
   ]
  },
  {
   "cell_type": "code",
   "execution_count": 10,
   "id": "dcf81444",
   "metadata": {},
   "outputs": [
    {
     "name": "stdout",
     "output_type": "stream",
     "text": [
      "Found 669 images belonging to 8 classes.\n",
      "Found 163 images belonging to 8 classes.\n",
      "Epoch 1/15\n"
     ]
    },
    {
     "name": "stderr",
     "output_type": "stream",
     "text": [
      "C:\\Users\\Jay\\AppData\\Roaming\\Python\\Python311\\site-packages\\keras\\src\\trainers\\data_adapters\\py_dataset_adapter.py:122: UserWarning: Your `PyDataset` class should call `super().__init__(**kwargs)` in its constructor. `**kwargs` can include `workers`, `use_multiprocessing`, `max_queue_size`. Do not pass these arguments to `fit()`, as they will be ignored.\n",
      "  self._warn_if_super_not_called()\n"
     ]
    },
    {
     "name": "stdout",
     "output_type": "stream",
     "text": [
      "\u001b[1m21/21\u001b[0m \u001b[32m━━━━━━━━━━━━━━━━━━━━\u001b[0m\u001b[37m\u001b[0m \u001b[1m91s\u001b[0m 3s/step - accuracy: 0.3983 - loss: 1.7563 - val_accuracy: 0.7791 - val_loss: 0.5875\n",
      "Epoch 2/15\n",
      "\u001b[1m21/21\u001b[0m \u001b[32m━━━━━━━━━━━━━━━━━━━━\u001b[0m\u001b[37m\u001b[0m \u001b[1m81s\u001b[0m 3s/step - accuracy: 0.7699 - loss: 0.6536 - val_accuracy: 0.8589 - val_loss: 0.3937\n",
      "Epoch 3/15\n",
      "\u001b[1m21/21\u001b[0m \u001b[32m━━━━━━━━━━━━━━━━━━━━\u001b[0m\u001b[37m\u001b[0m \u001b[1m79s\u001b[0m 3s/step - accuracy: 0.9153 - loss: 0.3053 - val_accuracy: 0.9080 - val_loss: 0.3331\n",
      "Epoch 4/15\n",
      "\u001b[1m21/21\u001b[0m \u001b[32m━━━━━━━━━━━━━━━━━━━━\u001b[0m\u001b[37m\u001b[0m \u001b[1m80s\u001b[0m 3s/step - accuracy: 0.9282 - loss: 0.2569 - val_accuracy: 0.9080 - val_loss: 0.2540\n",
      "Epoch 5/15\n",
      "\u001b[1m21/21\u001b[0m \u001b[32m━━━━━━━━━━━━━━━━━━━━\u001b[0m\u001b[37m\u001b[0m \u001b[1m81s\u001b[0m 3s/step - accuracy: 0.9139 - loss: 0.2339 - val_accuracy: 0.8896 - val_loss: 0.3539\n",
      "Epoch 6/15\n",
      "\u001b[1m21/21\u001b[0m \u001b[32m━━━━━━━━━━━━━━━━━━━━\u001b[0m\u001b[37m\u001b[0m \u001b[1m80s\u001b[0m 3s/step - accuracy: 0.9393 - loss: 0.1775 - val_accuracy: 0.9448 - val_loss: 0.1938\n",
      "Epoch 7/15\n",
      "\u001b[1m21/21\u001b[0m \u001b[32m━━━━━━━━━━━━━━━━━━━━\u001b[0m\u001b[37m\u001b[0m \u001b[1m80s\u001b[0m 3s/step - accuracy: 0.9360 - loss: 0.1985 - val_accuracy: 0.9141 - val_loss: 0.2493\n",
      "Epoch 8/15\n",
      "\u001b[1m21/21\u001b[0m \u001b[32m━━━━━━━━━━━━━━━━━━━━\u001b[0m\u001b[37m\u001b[0m \u001b[1m81s\u001b[0m 3s/step - accuracy: 0.9585 - loss: 0.1250 - val_accuracy: 0.9202 - val_loss: 0.3004\n",
      "Epoch 9/15\n",
      "\u001b[1m21/21\u001b[0m \u001b[32m━━━━━━━━━━━━━━━━━━━━\u001b[0m\u001b[37m\u001b[0m \u001b[1m80s\u001b[0m 3s/step - accuracy: 0.9391 - loss: 0.1458 - val_accuracy: 0.9018 - val_loss: 0.2516\n",
      "Epoch 10/15\n",
      "\u001b[1m21/21\u001b[0m \u001b[32m━━━━━━━━━━━━━━━━━━━━\u001b[0m\u001b[37m\u001b[0m \u001b[1m81s\u001b[0m 3s/step - accuracy: 0.9625 - loss: 0.1073 - val_accuracy: 0.8896 - val_loss: 0.3289\n",
      "Epoch 11/15\n",
      "\u001b[1m21/21\u001b[0m \u001b[32m━━━━━━━━━━━━━━━━━━━━\u001b[0m\u001b[37m\u001b[0m \u001b[1m81s\u001b[0m 3s/step - accuracy: 0.9556 - loss: 0.1336 - val_accuracy: 0.8957 - val_loss: 0.3082\n",
      "Epoch 12/15\n",
      "\u001b[1m21/21\u001b[0m \u001b[32m━━━━━━━━━━━━━━━━━━━━\u001b[0m\u001b[37m\u001b[0m \u001b[1m80s\u001b[0m 3s/step - accuracy: 0.9555 - loss: 0.1151 - val_accuracy: 0.8834 - val_loss: 0.3264\n",
      "Epoch 13/15\n",
      "\u001b[1m21/21\u001b[0m \u001b[32m━━━━━━━━━━━━━━━━━━━━\u001b[0m\u001b[37m\u001b[0m \u001b[1m80s\u001b[0m 3s/step - accuracy: 0.9431 - loss: 0.1463 - val_accuracy: 0.9018 - val_loss: 0.2583\n",
      "Epoch 14/15\n",
      "\u001b[1m21/21\u001b[0m \u001b[32m━━━━━━━━━━━━━━━━━━━━\u001b[0m\u001b[37m\u001b[0m \u001b[1m80s\u001b[0m 3s/step - accuracy: 0.9559 - loss: 0.1055 - val_accuracy: 0.8834 - val_loss: 0.3182\n",
      "Epoch 15/15\n",
      "\u001b[1m21/21\u001b[0m \u001b[32m━━━━━━━━━━━━━━━━━━━━\u001b[0m\u001b[37m\u001b[0m \u001b[1m81s\u001b[0m 3s/step - accuracy: 0.9698 - loss: 0.0964 - val_accuracy: 0.9202 - val_loss: 0.3041\n"
     ]
    },
    {
     "data": {
      "image/png": "[encoded data removed]",
      "text/plain": [
       "<Figure size 1200x400 with 2 Axes>"
      ]
     },
     "metadata": {},
     "output_type": "display_data"
    }
   ],
   "source": [
    "# Main function to run the full pipeline\n",
    "if __name__ == \"__main__\":\n",
    "    # Step 1: Prepare the data\n",
    "    train_dir = r\"C:\\Users\\Jay\\Desktop\\test\"\n",
    "    train_data, val_data = prepare_data(train_dir)\n",
    "\n",
    "    # Get the number of classes\n",
    "    num_classes = len(train_data.class_indices)\n",
    "    class_names = list(train_data.class_indices.keys())\n",
    "\n",
    "    # Step 2: Build the model\n",
    "    model = build_model(num_classes)\n",
    "\n",
    "    # Step 3: Train the model\n",
    "    history = train_model(model, train_data, val_data, epochs = 15)\n",
    "\n",
    "    # Step 4: Plot training results\n",
    "    plot_training(history)\n",
    "\n"
   ]
  },
  {
   "cell_type": "code",
   "execution_count": 11,
   "id": "e0cad9a7",
   "metadata": {},
   "outputs": [
    {
     "name": "stderr",
     "output_type": "stream",
     "text": [
      "WARNING:absl:You are saving your model as an HDF5 file via `model.save()` or `keras.saving.save_model(model)`. This file format is considered legacy. We recommend using instead the native Keras format, e.g. `model.save('my_model.keras')` or `keras.saving.save_model(model, 'my_model.keras')`. \n"
     ]
    },
    {
     "name": "stdout",
     "output_type": "stream",
     "text": [
      "Model saved to plant_classifier_model.h5\n"
     ]
    }
   ],
   "source": [
    "# Step 5: Save the model\n",
    "save_model(model)"
   ]
  },
  {
   "cell_type": "code",
   "execution_count": null,
   "id": "173efa5e",
   "metadata": {},
   "outputs": [],
   "source": []
  },
  {
   "cell_type": "code",
   "execution_count": null,
   "id": "77fe1ec6",
   "metadata": {},
   "outputs": [],
   "source": []
  },
  {
   "cell_type": "code",
   "execution_count": 15,
   "id": "84241750",
   "metadata": {},
   "outputs": [
    {
     "name": "stdout",
     "output_type": "stream",
     "text": [
      "Class names:  ['Amaranthus Green', 'Balloon vine', 'Betel Leaves', 'Celery', 'Chinese Spinach', 'Coriander Leaves', 'Curry Leaf', 'Dwarf Copperleaf (Green)']\n"
     ]
    }
   ],
   "source": [
    "# Get the number of classes and class names\n",
    "num_classes = len(train_data.class_indices)\n",
    "class_names = list(train_data.class_indices.keys())\n",
    "    \n",
    "print(\"Class names: \",class_names)"
   ]
  },
  {
   "cell_type": "code",
   "execution_count": 23,
   "id": "2466349b",
   "metadata": {},
   "outputs": [
    {
     "name": "stderr",
     "output_type": "stream",
     "text": [
      "WARNING:absl:Compiled the loaded model, but the compiled metrics have yet to be built. `model.compile_metrics` will be empty until you train or evaluate the model.\n"
     ]
    },
    {
     "name": "stdout",
     "output_type": "stream",
     "text": [
      "WARNING:tensorflow:5 out of the last 5 calls to <function TensorFlowTrainer.make_predict_function.<locals>.one_step_on_data_distributed at 0x000001CEB494BA60> triggered tf.function retracing. Tracing is expensive and the excessive number of tracings could be due to (1) creating @tf.function repeatedly in a loop, (2) passing tensors with different shapes, (3) passing Python objects instead of tensors. For (1), please define your @tf.function outside of the loop. For (2), @tf.function has reduce_retracing=True option that can avoid unnecessary retracing. For (3), please refer to https://www.tensorflow.org/guide/function#controlling_retracing and https://www.tensorflow.org/api_docs/python/tf/function for  more details.\n"
     ]
    },
    {
     "name": "stderr",
     "output_type": "stream",
     "text": [
      "WARNING:tensorflow:5 out of the last 5 calls to <function TensorFlowTrainer.make_predict_function.<locals>.one_step_on_data_distributed at 0x000001CEB494BA60> triggered tf.function retracing. Tracing is expensive and the excessive number of tracings could be due to (1) creating @tf.function repeatedly in a loop, (2) passing tensors with different shapes, (3) passing Python objects instead of tensors. For (1), please define your @tf.function outside of the loop. For (2), @tf.function has reduce_retracing=True option that can avoid unnecessary retracing. For (3), please refer to https://www.tensorflow.org/guide/function#controlling_retracing and https://www.tensorflow.org/api_docs/python/tf/function for  more details.\n"
     ]
    },
    {
     "name": "stdout",
     "output_type": "stream",
     "text": [
      "\u001b[1m1/1\u001b[0m \u001b[32m━━━━━━━━━━━━━━━━━━━━\u001b[0m\u001b[37m\u001b[0m \u001b[1m1s\u001b[0m 1s/step\n",
      "Predicted Class: Curry Leaf\n"
     ]
    }
   ],
   "source": [
    "import tensorflow as tf\n",
    "from tensorflow.keras.preprocessing import image\n",
    "from tensorflow.keras.models import load_model\n",
    "import numpy as np\n",
    "import os\n",
    "\n",
    "# Step 1: Load the saved model\n",
    "def load_trained_model(model_path='plant_classifier_model.h5'):\n",
    "    model = load_model(model_path)\n",
    "    return model\n",
    "\n",
    "# Step 2: Preprocess new image\n",
    "def preprocess_image(img_path, img_size=(224, 224)):\n",
    "    img = image.load_img(img_path, target_size=img_size)\n",
    "    img_array = image.img_to_array(img)\n",
    "    img_array = np.expand_dims(img_array, axis=0)  # Add batch dimension\n",
    "    img_array = img_array / 255.0  # Rescale the image\n",
    "    return img_array\n",
    "\n",
    "# Step 3: Make prediction on new image\n",
    "def predict_new_image(model, img_array, class_names):\n",
    "    predictions = model.predict(img_array)\n",
    "    predicted_class = np.argmax(predictions, axis=1)\n",
    "    return class_names[predicted_class[0]]\n",
    "\n",
    "# Main function to test the model on new images\n",
    "if __name__ == \"__main__\":\n",
    "    # Step 1: Load the trained model\n",
    "    model_path = 'plant_classifier_model.h5'\n",
    "    model = load_trained_model(model_path)\n",
    "\n",
    "    # Class names from training (should be known from training script)\n",
    "    class_names = class_names  # Replace with actual class names\n",
    "\n",
    "    # Step 2: Preprocess and predict new image\n",
    "    test_image_path = r\"C:\\Users\\Jay\\Desktop\\curry1.jpg\"  # Provide the path to your new image\n",
    "    img_array = preprocess_image(test_image_path)\n",
    "    \n",
    "    # Step 3: Predict class of the image\n",
    "    predicted_class = predict_new_image(model, img_array, class_names)\n",
    "    print(f\"Predicted Class: {predicted_class}\")\n"
   ]
  },
  {
   "cell_type": "code",
   "execution_count": null,
   "id": "a5fa9209",
   "metadata": {},
   "outputs": [],
   "source": []
  }
 ],
 "metadata": {
  "kernelspec": {
   "display_name": "Python 3 (ipykernel)",
   "language": "python",
   "name": "python3"
  },
  "language_info": {
   "codemirror_mode": {
    "name": "ipython",
    "version": 3
   },
   "file_extension": ".py",
   "mimetype": "text/x-python",
   "name": "python",
   "nbconvert_exporter": "python",
   "pygments_lexer": "ipython3",
   "version": "3.11.4"
  }
 },
 "nbformat": 4,
 "nbformat_minor": 5
}
